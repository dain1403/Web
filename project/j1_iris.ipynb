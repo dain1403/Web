{
 "cells": [
  {
   "cell_type": "markdown",
   "metadata": {},
   "source": [
    "# Classification(분류)\n"
   ]
  },
  {
   "cell_type": "markdown",
   "metadata": {},
   "source": [
    "### Logistic Regression"
   ]
  },
  {
   "cell_type": "code",
   "execution_count": 2,
   "metadata": {},
   "outputs": [],
   "source": [
    "import numpy as np\n",
    "import pandas as pd\n",
    "import warnings\n",
    "warnings.filterwarnings('ignore')"
   ]
  },
  {
   "cell_type": "code",
   "execution_count": 3,
   "metadata": {},
   "outputs": [],
   "source": [
    "from sklearn.datasets import load_iris\n",
    "iris = load_iris()"
   ]
  },
  {
   "cell_type": "code",
   "execution_count": 4,
   "metadata": {},
   "outputs": [
    {
     "data": {
      "text/plain": [
       "{'data': array([[5.1, 3.5, 1.4, 0.2],\n",
       "        [4.9, 3. , 1.4, 0.2],\n",
       "        [4.7, 3.2, 1.3, 0.2],\n",
       "        [4.6, 3.1, 1.5, 0.2],\n",
       "        [5. , 3.6, 1.4, 0.2],\n",
       "        [5.4, 3.9, 1.7, 0.4],\n",
       "        [4.6, 3.4, 1.4, 0.3],\n",
       "        [5. , 3.4, 1.5, 0.2],\n",
       "        [4.4, 2.9, 1.4, 0.2],\n",
       "        [4.9, 3.1, 1.5, 0.1],\n",
       "        [5.4, 3.7, 1.5, 0.2],\n",
       "        [4.8, 3.4, 1.6, 0.2],\n",
       "        [4.8, 3. , 1.4, 0.1],\n",
       "        [4.3, 3. , 1.1, 0.1],\n",
       "        [5.8, 4. , 1.2, 0.2],\n",
       "        [5.7, 4.4, 1.5, 0.4],\n",
       "        [5.4, 3.9, 1.3, 0.4],\n",
       "        [5.1, 3.5, 1.4, 0.3],\n",
       "        [5.7, 3.8, 1.7, 0.3],\n",
       "        [5.1, 3.8, 1.5, 0.3],\n",
       "        [5.4, 3.4, 1.7, 0.2],\n",
       "        [5.1, 3.7, 1.5, 0.4],\n",
       "        [4.6, 3.6, 1. , 0.2],\n",
       "        [5.1, 3.3, 1.7, 0.5],\n",
       "        [4.8, 3.4, 1.9, 0.2],\n",
       "        [5. , 3. , 1.6, 0.2],\n",
       "        [5. , 3.4, 1.6, 0.4],\n",
       "        [5.2, 3.5, 1.5, 0.2],\n",
       "        [5.2, 3.4, 1.4, 0.2],\n",
       "        [4.7, 3.2, 1.6, 0.2],\n",
       "        [4.8, 3.1, 1.6, 0.2],\n",
       "        [5.4, 3.4, 1.5, 0.4],\n",
       "        [5.2, 4.1, 1.5, 0.1],\n",
       "        [5.5, 4.2, 1.4, 0.2],\n",
       "        [4.9, 3.1, 1.5, 0.2],\n",
       "        [5. , 3.2, 1.2, 0.2],\n",
       "        [5.5, 3.5, 1.3, 0.2],\n",
       "        [4.9, 3.6, 1.4, 0.1],\n",
       "        [4.4, 3. , 1.3, 0.2],\n",
       "        [5.1, 3.4, 1.5, 0.2],\n",
       "        [5. , 3.5, 1.3, 0.3],\n",
       "        [4.5, 2.3, 1.3, 0.3],\n",
       "        [4.4, 3.2, 1.3, 0.2],\n",
       "        [5. , 3.5, 1.6, 0.6],\n",
       "        [5.1, 3.8, 1.9, 0.4],\n",
       "        [4.8, 3. , 1.4, 0.3],\n",
       "        [5.1, 3.8, 1.6, 0.2],\n",
       "        [4.6, 3.2, 1.4, 0.2],\n",
       "        [5.3, 3.7, 1.5, 0.2],\n",
       "        [5. , 3.3, 1.4, 0.2],\n",
       "        [7. , 3.2, 4.7, 1.4],\n",
       "        [6.4, 3.2, 4.5, 1.5],\n",
       "        [6.9, 3.1, 4.9, 1.5],\n",
       "        [5.5, 2.3, 4. , 1.3],\n",
       "        [6.5, 2.8, 4.6, 1.5],\n",
       "        [5.7, 2.8, 4.5, 1.3],\n",
       "        [6.3, 3.3, 4.7, 1.6],\n",
       "        [4.9, 2.4, 3.3, 1. ],\n",
       "        [6.6, 2.9, 4.6, 1.3],\n",
       "        [5.2, 2.7, 3.9, 1.4],\n",
       "        [5. , 2. , 3.5, 1. ],\n",
       "        [5.9, 3. , 4.2, 1.5],\n",
       "        [6. , 2.2, 4. , 1. ],\n",
       "        [6.1, 2.9, 4.7, 1.4],\n",
       "        [5.6, 2.9, 3.6, 1.3],\n",
       "        [6.7, 3.1, 4.4, 1.4],\n",
       "        [5.6, 3. , 4.5, 1.5],\n",
       "        [5.8, 2.7, 4.1, 1. ],\n",
       "        [6.2, 2.2, 4.5, 1.5],\n",
       "        [5.6, 2.5, 3.9, 1.1],\n",
       "        [5.9, 3.2, 4.8, 1.8],\n",
       "        [6.1, 2.8, 4. , 1.3],\n",
       "        [6.3, 2.5, 4.9, 1.5],\n",
       "        [6.1, 2.8, 4.7, 1.2],\n",
       "        [6.4, 2.9, 4.3, 1.3],\n",
       "        [6.6, 3. , 4.4, 1.4],\n",
       "        [6.8, 2.8, 4.8, 1.4],\n",
       "        [6.7, 3. , 5. , 1.7],\n",
       "        [6. , 2.9, 4.5, 1.5],\n",
       "        [5.7, 2.6, 3.5, 1. ],\n",
       "        [5.5, 2.4, 3.8, 1.1],\n",
       "        [5.5, 2.4, 3.7, 1. ],\n",
       "        [5.8, 2.7, 3.9, 1.2],\n",
       "        [6. , 2.7, 5.1, 1.6],\n",
       "        [5.4, 3. , 4.5, 1.5],\n",
       "        [6. , 3.4, 4.5, 1.6],\n",
       "        [6.7, 3.1, 4.7, 1.5],\n",
       "        [6.3, 2.3, 4.4, 1.3],\n",
       "        [5.6, 3. , 4.1, 1.3],\n",
       "        [5.5, 2.5, 4. , 1.3],\n",
       "        [5.5, 2.6, 4.4, 1.2],\n",
       "        [6.1, 3. , 4.6, 1.4],\n",
       "        [5.8, 2.6, 4. , 1.2],\n",
       "        [5. , 2.3, 3.3, 1. ],\n",
       "        [5.6, 2.7, 4.2, 1.3],\n",
       "        [5.7, 3. , 4.2, 1.2],\n",
       "        [5.7, 2.9, 4.2, 1.3],\n",
       "        [6.2, 2.9, 4.3, 1.3],\n",
       "        [5.1, 2.5, 3. , 1.1],\n",
       "        [5.7, 2.8, 4.1, 1.3],\n",
       "        [6.3, 3.3, 6. , 2.5],\n",
       "        [5.8, 2.7, 5.1, 1.9],\n",
       "        [7.1, 3. , 5.9, 2.1],\n",
       "        [6.3, 2.9, 5.6, 1.8],\n",
       "        [6.5, 3. , 5.8, 2.2],\n",
       "        [7.6, 3. , 6.6, 2.1],\n",
       "        [4.9, 2.5, 4.5, 1.7],\n",
       "        [7.3, 2.9, 6.3, 1.8],\n",
       "        [6.7, 2.5, 5.8, 1.8],\n",
       "        [7.2, 3.6, 6.1, 2.5],\n",
       "        [6.5, 3.2, 5.1, 2. ],\n",
       "        [6.4, 2.7, 5.3, 1.9],\n",
       "        [6.8, 3. , 5.5, 2.1],\n",
       "        [5.7, 2.5, 5. , 2. ],\n",
       "        [5.8, 2.8, 5.1, 2.4],\n",
       "        [6.4, 3.2, 5.3, 2.3],\n",
       "        [6.5, 3. , 5.5, 1.8],\n",
       "        [7.7, 3.8, 6.7, 2.2],\n",
       "        [7.7, 2.6, 6.9, 2.3],\n",
       "        [6. , 2.2, 5. , 1.5],\n",
       "        [6.9, 3.2, 5.7, 2.3],\n",
       "        [5.6, 2.8, 4.9, 2. ],\n",
       "        [7.7, 2.8, 6.7, 2. ],\n",
       "        [6.3, 2.7, 4.9, 1.8],\n",
       "        [6.7, 3.3, 5.7, 2.1],\n",
       "        [7.2, 3.2, 6. , 1.8],\n",
       "        [6.2, 2.8, 4.8, 1.8],\n",
       "        [6.1, 3. , 4.9, 1.8],\n",
       "        [6.4, 2.8, 5.6, 2.1],\n",
       "        [7.2, 3. , 5.8, 1.6],\n",
       "        [7.4, 2.8, 6.1, 1.9],\n",
       "        [7.9, 3.8, 6.4, 2. ],\n",
       "        [6.4, 2.8, 5.6, 2.2],\n",
       "        [6.3, 2.8, 5.1, 1.5],\n",
       "        [6.1, 2.6, 5.6, 1.4],\n",
       "        [7.7, 3. , 6.1, 2.3],\n",
       "        [6.3, 3.4, 5.6, 2.4],\n",
       "        [6.4, 3.1, 5.5, 1.8],\n",
       "        [6. , 3. , 4.8, 1.8],\n",
       "        [6.9, 3.1, 5.4, 2.1],\n",
       "        [6.7, 3.1, 5.6, 2.4],\n",
       "        [6.9, 3.1, 5.1, 2.3],\n",
       "        [5.8, 2.7, 5.1, 1.9],\n",
       "        [6.8, 3.2, 5.9, 2.3],\n",
       "        [6.7, 3.3, 5.7, 2.5],\n",
       "        [6.7, 3. , 5.2, 2.3],\n",
       "        [6.3, 2.5, 5. , 1.9],\n",
       "        [6.5, 3. , 5.2, 2. ],\n",
       "        [6.2, 3.4, 5.4, 2.3],\n",
       "        [5.9, 3. , 5.1, 1.8]]),\n",
       " 'target': array([0, 0, 0, 0, 0, 0, 0, 0, 0, 0, 0, 0, 0, 0, 0, 0, 0, 0, 0, 0, 0, 0,\n",
       "        0, 0, 0, 0, 0, 0, 0, 0, 0, 0, 0, 0, 0, 0, 0, 0, 0, 0, 0, 0, 0, 0,\n",
       "        0, 0, 0, 0, 0, 0, 1, 1, 1, 1, 1, 1, 1, 1, 1, 1, 1, 1, 1, 1, 1, 1,\n",
       "        1, 1, 1, 1, 1, 1, 1, 1, 1, 1, 1, 1, 1, 1, 1, 1, 1, 1, 1, 1, 1, 1,\n",
       "        1, 1, 1, 1, 1, 1, 1, 1, 1, 1, 1, 1, 2, 2, 2, 2, 2, 2, 2, 2, 2, 2,\n",
       "        2, 2, 2, 2, 2, 2, 2, 2, 2, 2, 2, 2, 2, 2, 2, 2, 2, 2, 2, 2, 2, 2,\n",
       "        2, 2, 2, 2, 2, 2, 2, 2, 2, 2, 2, 2, 2, 2, 2, 2, 2, 2]),\n",
       " 'frame': None,\n",
       " 'target_names': array(['setosa', 'versicolor', 'virginica'], dtype='<U10'),\n",
       " 'DESCR': '.. _iris_dataset:\\n\\nIris plants dataset\\n--------------------\\n\\n**Data Set Characteristics:**\\n\\n    :Number of Instances: 150 (50 in each of three classes)\\n    :Number of Attributes: 4 numeric, predictive attributes and the class\\n    :Attribute Information:\\n        - sepal length in cm\\n        - sepal width in cm\\n        - petal length in cm\\n        - petal width in cm\\n        - class:\\n                - Iris-Setosa\\n                - Iris-Versicolour\\n                - Iris-Virginica\\n                \\n    :Summary Statistics:\\n\\n    ============== ==== ==== ======= ===== ====================\\n                    Min  Max   Mean    SD   Class Correlation\\n    ============== ==== ==== ======= ===== ====================\\n    sepal length:   4.3  7.9   5.84   0.83    0.7826\\n    sepal width:    2.0  4.4   3.05   0.43   -0.4194\\n    petal length:   1.0  6.9   3.76   1.76    0.9490  (high!)\\n    petal width:    0.1  2.5   1.20   0.76    0.9565  (high!)\\n    ============== ==== ==== ======= ===== ====================\\n\\n    :Missing Attribute Values: None\\n    :Class Distribution: 33.3% for each of 3 classes.\\n    :Creator: R.A. Fisher\\n    :Donor: Michael Marshall (MARSHALL%PLU@io.arc.nasa.gov)\\n    :Date: July, 1988\\n\\nThe famous Iris database, first used by Sir R.A. Fisher. The dataset is taken\\nfrom Fisher\\'s paper. Note that it\\'s the same as in R, but not as in the UCI\\nMachine Learning Repository, which has two wrong data points.\\n\\nThis is perhaps the best known database to be found in the\\npattern recognition literature.  Fisher\\'s paper is a classic in the field and\\nis referenced frequently to this day.  (See Duda & Hart, for example.)  The\\ndata set contains 3 classes of 50 instances each, where each class refers to a\\ntype of iris plant.  One class is linearly separable from the other 2; the\\nlatter are NOT linearly separable from each other.\\n\\n.. topic:: References\\n\\n   - Fisher, R.A. \"The use of multiple measurements in taxonomic problems\"\\n     Annual Eugenics, 7, Part II, 179-188 (1936); also in \"Contributions to\\n     Mathematical Statistics\" (John Wiley, NY, 1950).\\n   - Duda, R.O., & Hart, P.E. (1973) Pattern Classification and Scene Analysis.\\n     (Q327.D83) John Wiley & Sons.  ISBN 0-471-22361-1.  See page 218.\\n   - Dasarathy, B.V. (1980) \"Nosing Around the Neighborhood: A New System\\n     Structure and Classification Rule for Recognition in Partially Exposed\\n     Environments\".  IEEE Transactions on Pattern Analysis and Machine\\n     Intelligence, Vol. PAMI-2, No. 1, 67-71.\\n   - Gates, G.W. (1972) \"The Reduced Nearest Neighbor Rule\".  IEEE Transactions\\n     on Information Theory, May 1972, 431-433.\\n   - See also: 1988 MLC Proceedings, 54-64.  Cheeseman et al\"s AUTOCLASS II\\n     conceptual clustering system finds 3 classes in the data.\\n   - Many, many more ...',\n",
       " 'feature_names': ['sepal length (cm)',\n",
       "  'sepal width (cm)',\n",
       "  'petal length (cm)',\n",
       "  'petal width (cm)'],\n",
       " 'filename': 'C:\\\\Users\\\\t4230\\\\.conda\\\\envs\\\\pyflask\\\\lib\\\\site-packages\\\\sklearn\\\\datasets\\\\data\\\\iris.csv'}"
      ]
     },
     "execution_count": 4,
     "metadata": {},
     "output_type": "execute_result"
    }
   ],
   "source": [
    "iris\n",
    "# data, target, target_names, DESCR, feature_names 들이 있음을 확인할 수 있다."
   ]
  },
  {
   "cell_type": "code",
   "execution_count": 5,
   "metadata": {},
   "outputs": [
    {
     "data": {
      "text/html": [
       "<div>\n",
       "<style scoped>\n",
       "    .dataframe tbody tr th:only-of-type {\n",
       "        vertical-align: middle;\n",
       "    }\n",
       "\n",
       "    .dataframe tbody tr th {\n",
       "        vertical-align: top;\n",
       "    }\n",
       "\n",
       "    .dataframe thead th {\n",
       "        text-align: right;\n",
       "    }\n",
       "</style>\n",
       "<table border=\"1\" class=\"dataframe\">\n",
       "  <thead>\n",
       "    <tr style=\"text-align: right;\">\n",
       "      <th></th>\n",
       "      <th>sepal length (cm)</th>\n",
       "      <th>sepal width (cm)</th>\n",
       "      <th>petal length (cm)</th>\n",
       "      <th>petal width (cm)</th>\n",
       "    </tr>\n",
       "  </thead>\n",
       "  <tbody>\n",
       "    <tr>\n",
       "      <th>0</th>\n",
       "      <td>5.1</td>\n",
       "      <td>3.5</td>\n",
       "      <td>1.4</td>\n",
       "      <td>0.2</td>\n",
       "    </tr>\n",
       "    <tr>\n",
       "      <th>1</th>\n",
       "      <td>4.9</td>\n",
       "      <td>3.0</td>\n",
       "      <td>1.4</td>\n",
       "      <td>0.2</td>\n",
       "    </tr>\n",
       "    <tr>\n",
       "      <th>2</th>\n",
       "      <td>4.7</td>\n",
       "      <td>3.2</td>\n",
       "      <td>1.3</td>\n",
       "      <td>0.2</td>\n",
       "    </tr>\n",
       "    <tr>\n",
       "      <th>3</th>\n",
       "      <td>4.6</td>\n",
       "      <td>3.1</td>\n",
       "      <td>1.5</td>\n",
       "      <td>0.2</td>\n",
       "    </tr>\n",
       "    <tr>\n",
       "      <th>4</th>\n",
       "      <td>5.0</td>\n",
       "      <td>3.6</td>\n",
       "      <td>1.4</td>\n",
       "      <td>0.2</td>\n",
       "    </tr>\n",
       "  </tbody>\n",
       "</table>\n",
       "</div>"
      ],
      "text/plain": [
       "   sepal length (cm)  sepal width (cm)  petal length (cm)  petal width (cm)\n",
       "0                5.1               3.5                1.4               0.2\n",
       "1                4.9               3.0                1.4               0.2\n",
       "2                4.7               3.2                1.3               0.2\n",
       "3                4.6               3.1                1.5               0.2\n",
       "4                5.0               3.6                1.4               0.2"
      ]
     },
     "execution_count": 5,
     "metadata": {},
     "output_type": "execute_result"
    }
   ],
   "source": [
    "data = iris.data\n",
    "label = iris.target\n",
    "columns = iris.feature_names\n",
    "df = pd.DataFrame(data, columns = columns)\n",
    "df.head()"
   ]
  },
  {
   "cell_type": "code",
   "execution_count": 6,
   "metadata": {},
   "outputs": [],
   "source": [
    "from sklearn.model_selection import train_test_split\n",
    "x_train, x_test, y_train, y_test = \\\n",
    "    train_test_split(data,label, test_size = 0.2, shuffle=True, stratify = label, random_state = 2019)"
   ]
  },
  {
   "cell_type": "markdown",
   "metadata": {},
   "source": [
    "- 모델 객체 생성"
   ]
  },
  {
   "cell_type": "code",
   "execution_count": 7,
   "metadata": {},
   "outputs": [],
   "source": [
    "from sklearn.linear_model import LogisticRegression\n",
    "lr = LogisticRegression()"
   ]
  },
  {
   "cell_type": "markdown",
   "metadata": {},
   "source": [
    "- 모델 학습"
   ]
  },
  {
   "cell_type": "code",
   "execution_count": 8,
   "metadata": {},
   "outputs": [
    {
     "data": {
      "text/plain": [
       "LogisticRegression()"
      ]
     },
     "execution_count": 8,
     "metadata": {},
     "output_type": "execute_result"
    }
   ],
   "source": [
    "lr.fit(x_train, y_train)"
   ]
  },
  {
   "cell_type": "code",
   "execution_count": 9,
   "metadata": {},
   "outputs": [
    {
     "name": "stderr",
     "output_type": "stream",
     "text": [
      "[Parallel(n_jobs=1)]: Using backend SequentialBackend with 1 concurrent workers.\n",
      "[Parallel(n_jobs=1)]: Done   1 out of   1 | elapsed:    0.0s finished\n"
     ]
    },
    {
     "data": {
      "text/plain": [
       "LogisticRegression(verbose=1)"
      ]
     },
     "execution_count": 9,
     "metadata": {},
     "output_type": "execute_result"
    }
   ],
   "source": [
    "from sklearn.linear_model import LogisticRegression\n",
    "lr = LogisticRegression(verbose = 1)\n",
    "lr.fit(x_train, y_train)"
   ]
  },
  {
   "cell_type": "markdown",
   "metadata": {},
   "source": [
    "##### - 학습한 결과를 저장"
   ]
  },
  {
   "cell_type": "code",
   "execution_count": 10,
   "metadata": {},
   "outputs": [
    {
     "data": {
      "text/plain": [
       "['model/iris_lr.pkl']"
      ]
     },
     "execution_count": 10,
     "metadata": {},
     "output_type": "execute_result"
    }
   ],
   "source": [
    "import joblib\n",
    "joblib.dump(lr, 'model/iris_lr.pkl')"
   ]
  },
  {
   "cell_type": "markdown",
   "metadata": {},
   "source": [
    "### Support Vector Machine"
   ]
  },
  {
   "cell_type": "code",
   "execution_count": 12,
   "metadata": {},
   "outputs": [],
   "source": [
    "from sklearn.svm import SVC\n",
    "svc = SVC()  #객체 생성            ##########################순서 익히기 1"
   ]
  },
  {
   "cell_type": "code",
   "execution_count": 13,
   "metadata": {},
   "outputs": [
    {
     "data": {
      "text/plain": [
       "SVC()"
      ]
     },
     "execution_count": 13,
     "metadata": {},
     "output_type": "execute_result"
    }
   ],
   "source": [
    "svc"
   ]
  },
  {
   "cell_type": "code",
   "execution_count": 14,
   "metadata": {},
   "outputs": [
    {
     "data": {
      "text/plain": [
       "SVC()"
      ]
     },
     "execution_count": 14,
     "metadata": {},
     "output_type": "execute_result"
    }
   ],
   "source": [
    "svc.fit(x_train,y_train) #학습                ##########################순서 익히기 2"
   ]
  },
  {
   "cell_type": "code",
   "execution_count": 20,
   "metadata": {},
   "outputs": [
    {
     "data": {
      "text/plain": [
       "['model/iris_svm.pkl']"
      ]
     },
     "execution_count": 20,
     "metadata": {},
     "output_type": "execute_result"
    }
   ],
   "source": [
    "import joblib\n",
    "joblib.dump(svc, 'model/iris_svm.pkl')"
   ]
  },
  {
   "cell_type": "markdown",
   "metadata": {},
   "source": [
    "### Disicion Tree"
   ]
  },
  {
   "cell_type": "code",
   "execution_count": 16,
   "metadata": {},
   "outputs": [],
   "source": [
    "from sklearn.tree import DecisionTreeClassifier\n",
    "dtc = DecisionTreeClassifier()"
   ]
  },
  {
   "cell_type": "code",
   "execution_count": 17,
   "metadata": {},
   "outputs": [
    {
     "data": {
      "text/plain": [
       "DecisionTreeClassifier()"
      ]
     },
     "execution_count": 17,
     "metadata": {},
     "output_type": "execute_result"
    }
   ],
   "source": [
    "dtc"
   ]
  },
  {
   "cell_type": "code",
   "execution_count": 18,
   "metadata": {},
   "outputs": [
    {
     "data": {
      "text/plain": [
       "DecisionTreeClassifier()"
      ]
     },
     "execution_count": 18,
     "metadata": {},
     "output_type": "execute_result"
    }
   ],
   "source": [
    "dtc.fit(x_train, y_train)"
   ]
  },
  {
   "cell_type": "code",
   "execution_count": 21,
   "metadata": {},
   "outputs": [
    {
     "data": {
      "text/plain": [
       "['model/iris_dt.pkl']"
      ]
     },
     "execution_count": 21,
     "metadata": {},
     "output_type": "execute_result"
    }
   ],
   "source": [
    "import joblib\n",
    "joblib.dump(dtc, 'model/iris_dt.pkl')"
   ]
  },
  {
   "cell_type": "markdown",
   "metadata": {},
   "source": [
    "##### 저장된 모델로 정확도 산출"
   ]
  },
  {
   "cell_type": "code",
   "execution_count": 23,
   "metadata": {},
   "outputs": [],
   "source": [
    "model_lr = joblib.load('model/iris_lr.pkl')\n",
    "model_svm = joblib.load('model/iris_svm.pkl')\n",
    "model_dt = joblib.load('model/iris_dt.pkl')"
   ]
  },
  {
   "cell_type": "code",
   "execution_count": 24,
   "metadata": {},
   "outputs": [],
   "source": [
    "y_pred_lr = model_lr.predict(x_test)\n",
    "y_pred_svm = model_svm.predict(x_test)\n",
    "y_pred_dt = model_dt.predict(x_test)"
   ]
  },
  {
   "cell_type": "code",
   "execution_count": 30,
   "metadata": {},
   "outputs": [],
   "source": [
    "from sklearn.metrics import accuracy_score"
   ]
  },
  {
   "cell_type": "code",
   "execution_count": 31,
   "metadata": {},
   "outputs": [
    {
     "name": "stdout",
     "output_type": "stream",
     "text": [
      "0.9666666666666667 0.9666666666666667 0.9666666666666667\n"
     ]
    }
   ],
   "source": [
    "acc_lr = accuracy_score(y_test, y_pred_lr)\n",
    "acc_svm = accuracy_score(y_test, y_pred_svm)\n",
    "acc_dt = accuracy_score(y_test, y_pred_dt)\n",
    "print(acc_lr,acc_svm,acc_dt)"
   ]
  },
  {
   "cell_type": "markdown",
   "metadata": {},
   "source": [
    "#### 한개의 테스트 값 예측"
   ]
  },
  {
   "cell_type": "code",
   "execution_count": 29,
   "metadata": {},
   "outputs": [
    {
     "data": {
      "text/html": [
       "<div>\n",
       "<style scoped>\n",
       "    .dataframe tbody tr th:only-of-type {\n",
       "        vertical-align: middle;\n",
       "    }\n",
       "\n",
       "    .dataframe tbody tr th {\n",
       "        vertical-align: top;\n",
       "    }\n",
       "\n",
       "    .dataframe thead th {\n",
       "        text-align: right;\n",
       "    }\n",
       "</style>\n",
       "<table border=\"1\" class=\"dataframe\">\n",
       "  <thead>\n",
       "    <tr style=\"text-align: right;\">\n",
       "      <th></th>\n",
       "      <th>sepal length (cm)</th>\n",
       "      <th>sepal width (cm)</th>\n",
       "      <th>petal length (cm)</th>\n",
       "      <th>petal width (cm)</th>\n",
       "    </tr>\n",
       "  </thead>\n",
       "  <tbody>\n",
       "    <tr>\n",
       "      <th>145</th>\n",
       "      <td>6.7</td>\n",
       "      <td>3.0</td>\n",
       "      <td>5.2</td>\n",
       "      <td>2.3</td>\n",
       "    </tr>\n",
       "    <tr>\n",
       "      <th>146</th>\n",
       "      <td>6.3</td>\n",
       "      <td>2.5</td>\n",
       "      <td>5.0</td>\n",
       "      <td>1.9</td>\n",
       "    </tr>\n",
       "    <tr>\n",
       "      <th>147</th>\n",
       "      <td>6.5</td>\n",
       "      <td>3.0</td>\n",
       "      <td>5.2</td>\n",
       "      <td>2.0</td>\n",
       "    </tr>\n",
       "    <tr>\n",
       "      <th>148</th>\n",
       "      <td>6.2</td>\n",
       "      <td>3.4</td>\n",
       "      <td>5.4</td>\n",
       "      <td>2.3</td>\n",
       "    </tr>\n",
       "    <tr>\n",
       "      <th>149</th>\n",
       "      <td>5.9</td>\n",
       "      <td>3.0</td>\n",
       "      <td>5.1</td>\n",
       "      <td>1.8</td>\n",
       "    </tr>\n",
       "  </tbody>\n",
       "</table>\n",
       "</div>"
      ],
      "text/plain": [
       "     sepal length (cm)  sepal width (cm)  petal length (cm)  petal width (cm)\n",
       "145                6.7               3.0                5.2               2.3\n",
       "146                6.3               2.5                5.0               1.9\n",
       "147                6.5               3.0                5.2               2.0\n",
       "148                6.2               3.4                5.4               2.3\n",
       "149                5.9               3.0                5.1               1.8"
      ]
     },
     "execution_count": 29,
     "metadata": {},
     "output_type": "execute_result"
    }
   ],
   "source": [
    "df.tail()"
   ]
  },
  {
   "cell_type": "code",
   "execution_count": 35,
   "metadata": {},
   "outputs": [],
   "source": [
    "test_data = np.array([6.7, 3.0, 5.2, 2.3]).reshape(1,4)"
   ]
  },
  {
   "cell_type": "code",
   "execution_count": 36,
   "metadata": {},
   "outputs": [
    {
     "data": {
      "text/plain": [
       "array([2])"
      ]
     },
     "execution_count": 36,
     "metadata": {},
     "output_type": "execute_result"
    }
   ],
   "source": [
    "model_lr.predict(test_data)   ##결과 : 예측한 값이 2라는 뜻, setosa : 0, versicolor : 1, virginica :2"
   ]
  },
  {
   "cell_type": "code",
   "execution_count": 38,
   "metadata": {},
   "outputs": [],
   "source": [
    "index_lr = model_lr.predict(test_data)[0]\n",
    "index_svm = model_svm.predict(test_data)[0]\n",
    "index_dt = model_dt.predict(test_data)[0]"
   ]
  },
  {
   "cell_type": "code",
   "execution_count": 39,
   "metadata": {},
   "outputs": [
    {
     "name": "stdout",
     "output_type": "stream",
     "text": [
      "Virginica Virginica Virginica\n"
     ]
    }
   ],
   "source": [
    "sp_names = ['Setosa','Versicolor', 'Virginica']\n",
    "print(sp_names[index_lr],sp_names[index_svm],sp_names[index_dt])"
   ]
  },
  {
   "cell_type": "markdown",
   "metadata": {},
   "source": [
    "### Deep Learning Model"
   ]
  },
  {
   "cell_type": "code",
   "execution_count": 48,
   "metadata": {},
   "outputs": [
    {
     "name": "stdout",
     "output_type": "stream",
     "text": [
      "Model: \"sequential_3\"\n",
      "_________________________________________________________________\n",
      "Layer (type)                 Output Shape              Param #   \n",
      "=================================================================\n",
      "dense_7 (Dense)              (None, 12)                60        \n",
      "_________________________________________________________________\n",
      "dense_8 (Dense)              (None, 8)                 104       \n",
      "_________________________________________________________________\n",
      "dense_9 (Dense)              (None, 3)                 27        \n",
      "=================================================================\n",
      "Total params: 191\n",
      "Trainable params: 191\n",
      "Non-trainable params: 0\n",
      "_________________________________________________________________\n"
     ]
    }
   ],
   "source": [
    "# 딥러닝 모델 설정\n",
    "from tensorflow import keras\n",
    "from keras.models import Sequential\n",
    "from keras.layers import Dense\n",
    "\n",
    "model = Sequential([\n",
    "    Dense(12, input_shape = (4,), activation = 'relu'),\n",
    "    Dense(8, input_shape = (4,), activation = 'relu'),\n",
    "    Dense(3, activation = 'softmax')\n",
    "])\n",
    "model.summary()"
   ]
  },
  {
   "cell_type": "code",
   "execution_count": 49,
   "metadata": {},
   "outputs": [],
   "source": [
    "# 모델 컴파일\n",
    "model.compile(loss = 'categorical_crossentropy',\n",
    "             optimizer = 'adam',\n",
    "             metrics = ['accuracy'])"
   ]
  },
  {
   "cell_type": "code",
   "execution_count": 50,
   "metadata": {},
   "outputs": [],
   "source": [
    "from keras.callbacks import ModelCheckpoint\n",
    "checkpointer = ModelCheckpoint(filepath=\"model/iris_deep.hdf5\",\n",
    "                              monitor='val_loss',\n",
    "                              verbose= 1, save_best_only = True)"
   ]
  },
  {
   "cell_type": "code",
   "execution_count": 51,
   "metadata": {},
   "outputs": [
    {
     "data": {
      "text/plain": [
       "(array([1., 0., 0.], dtype=float32),\n",
       " array([0., 0., 1.], dtype=float32),\n",
       " array([0., 0., 1.], dtype=float32))"
      ]
     },
     "execution_count": 51,
     "metadata": {},
     "output_type": "execute_result"
    }
   ],
   "source": [
    "# 원핫인코딩\n",
    "Y_encoded = keras.utils.to_categorical(y_train)\n",
    "Y_encoded[0],Y_encoded[50],Y_encoded[100]"
   ]
  },
  {
   "cell_type": "code",
   "execution_count": 56,
   "metadata": {},
   "outputs": [
    {
     "name": "stdout",
     "output_type": "stream",
     "text": [
      "Train on 96 samples, validate on 24 samples\n",
      "Epoch 1/100\n",
      " - 0s - loss: 1.4164 - accuracy: 0.3125 - val_loss: 1.2869 - val_accuracy: 0.4167\n",
      "\n",
      "Epoch 00001: val_loss improved from inf to 1.28690, saving model to model/iris_deep.hdf5\n",
      "Epoch 2/100\n",
      " - 0s - loss: 1.3723 - accuracy: 0.3125 - val_loss: 1.2714 - val_accuracy: 0.4167\n",
      "\n",
      "Epoch 00002: val_loss improved from 1.28690 to 1.27141, saving model to model/iris_deep.hdf5\n",
      "Epoch 3/100\n",
      " - 0s - loss: 1.3408 - accuracy: 0.3125 - val_loss: 1.2527 - val_accuracy: 0.3750\n",
      "\n",
      "Epoch 00003: val_loss improved from 1.27141 to 1.25270, saving model to model/iris_deep.hdf5\n",
      "Epoch 4/100\n",
      " - 0s - loss: 1.3139 - accuracy: 0.3125 - val_loss: 1.2295 - val_accuracy: 0.3750\n",
      "\n",
      "Epoch 00004: val_loss improved from 1.25270 to 1.22953, saving model to model/iris_deep.hdf5\n",
      "Epoch 5/100\n",
      " - 0s - loss: 1.2851 - accuracy: 0.3125 - val_loss: 1.2031 - val_accuracy: 0.3750\n",
      "\n",
      "Epoch 00005: val_loss improved from 1.22953 to 1.20311, saving model to model/iris_deep.hdf5\n",
      "Epoch 6/100\n",
      " - 0s - loss: 1.2567 - accuracy: 0.3229 - val_loss: 1.1733 - val_accuracy: 0.3750\n",
      "\n",
      "Epoch 00006: val_loss improved from 1.20311 to 1.17333, saving model to model/iris_deep.hdf5\n",
      "Epoch 7/100\n",
      " - 0s - loss: 1.2300 - accuracy: 0.3333 - val_loss: 1.1517 - val_accuracy: 0.3750\n",
      "\n",
      "Epoch 00007: val_loss improved from 1.17333 to 1.15172, saving model to model/iris_deep.hdf5\n",
      "Epoch 8/100\n",
      " - 0s - loss: 1.2058 - accuracy: 0.3333 - val_loss: 1.1324 - val_accuracy: 0.3750\n",
      "\n",
      "Epoch 00008: val_loss improved from 1.15172 to 1.13239, saving model to model/iris_deep.hdf5\n",
      "Epoch 9/100\n",
      " - 0s - loss: 1.1853 - accuracy: 0.3125 - val_loss: 1.1168 - val_accuracy: 0.4583\n",
      "\n",
      "Epoch 00009: val_loss improved from 1.13239 to 1.11680, saving model to model/iris_deep.hdf5\n",
      "Epoch 10/100\n",
      " - 0s - loss: 1.1662 - accuracy: 0.3229 - val_loss: 1.1042 - val_accuracy: 0.5000\n",
      "\n",
      "Epoch 00010: val_loss improved from 1.11680 to 1.10421, saving model to model/iris_deep.hdf5\n",
      "Epoch 11/100\n",
      " - 0s - loss: 1.1492 - accuracy: 0.3438 - val_loss: 1.0908 - val_accuracy: 0.5417\n",
      "\n",
      "Epoch 00011: val_loss improved from 1.10421 to 1.09082, saving model to model/iris_deep.hdf5\n",
      "Epoch 12/100\n",
      " - 0s - loss: 1.1322 - accuracy: 0.3958 - val_loss: 1.0736 - val_accuracy: 0.5417\n",
      "\n",
      "Epoch 00012: val_loss improved from 1.09082 to 1.07361, saving model to model/iris_deep.hdf5\n",
      "Epoch 13/100\n",
      " - 0s - loss: 1.1156 - accuracy: 0.4688 - val_loss: 1.0601 - val_accuracy: 0.7083\n",
      "\n",
      "Epoch 00013: val_loss improved from 1.07361 to 1.06013, saving model to model/iris_deep.hdf5\n",
      "Epoch 14/100\n",
      " - 0s - loss: 1.0992 - accuracy: 0.5208 - val_loss: 1.0431 - val_accuracy: 0.7083\n",
      "\n",
      "Epoch 00014: val_loss improved from 1.06013 to 1.04309, saving model to model/iris_deep.hdf5\n",
      "Epoch 15/100\n",
      " - 0s - loss: 1.0827 - accuracy: 0.5521 - val_loss: 1.0280 - val_accuracy: 0.7083\n",
      "\n",
      "Epoch 00015: val_loss improved from 1.04309 to 1.02803, saving model to model/iris_deep.hdf5\n",
      "Epoch 16/100\n",
      " - 0s - loss: 1.0672 - accuracy: 0.5417 - val_loss: 1.0103 - val_accuracy: 0.6250\n",
      "\n",
      "Epoch 00016: val_loss improved from 1.02803 to 1.01026, saving model to model/iris_deep.hdf5\n",
      "Epoch 17/100\n",
      " - 0s - loss: 1.0512 - accuracy: 0.5208 - val_loss: 0.9943 - val_accuracy: 0.6250\n",
      "\n",
      "Epoch 00017: val_loss improved from 1.01026 to 0.99426, saving model to model/iris_deep.hdf5\n",
      "Epoch 18/100\n",
      " - 0s - loss: 1.0357 - accuracy: 0.5208 - val_loss: 0.9782 - val_accuracy: 0.6250\n",
      "\n",
      "Epoch 00018: val_loss improved from 0.99426 to 0.97816, saving model to model/iris_deep.hdf5\n",
      "Epoch 19/100\n",
      " - 0s - loss: 1.0210 - accuracy: 0.5104 - val_loss: 0.9640 - val_accuracy: 0.6250\n",
      "\n",
      "Epoch 00019: val_loss improved from 0.97816 to 0.96401, saving model to model/iris_deep.hdf5\n",
      "Epoch 20/100\n",
      " - 0s - loss: 1.0061 - accuracy: 0.5104 - val_loss: 0.9517 - val_accuracy: 0.7083\n",
      "\n",
      "Epoch 00020: val_loss improved from 0.96401 to 0.95170, saving model to model/iris_deep.hdf5\n",
      "Epoch 21/100\n",
      " - 0s - loss: 0.9917 - accuracy: 0.5312 - val_loss: 0.9395 - val_accuracy: 0.7083\n",
      "\n",
      "Epoch 00021: val_loss improved from 0.95170 to 0.93949, saving model to model/iris_deep.hdf5\n",
      "Epoch 22/100\n",
      " - 0s - loss: 0.9786 - accuracy: 0.5521 - val_loss: 0.9277 - val_accuracy: 0.7083\n",
      "\n",
      "Epoch 00022: val_loss improved from 0.93949 to 0.92773, saving model to model/iris_deep.hdf5\n",
      "Epoch 23/100\n",
      " - 0s - loss: 0.9625 - accuracy: 0.5521 - val_loss: 0.9106 - val_accuracy: 0.6250\n",
      "\n",
      "Epoch 00023: val_loss improved from 0.92773 to 0.91061, saving model to model/iris_deep.hdf5\n",
      "Epoch 24/100\n",
      " - 0s - loss: 0.9483 - accuracy: 0.5312 - val_loss: 0.8943 - val_accuracy: 0.5417\n",
      "\n",
      "Epoch 00024: val_loss improved from 0.91061 to 0.89435, saving model to model/iris_deep.hdf5\n",
      "Epoch 25/100\n",
      " - 0s - loss: 0.9353 - accuracy: 0.4792 - val_loss: 0.8811 - val_accuracy: 0.5417\n",
      "\n",
      "Epoch 00025: val_loss improved from 0.89435 to 0.88113, saving model to model/iris_deep.hdf5\n",
      "Epoch 26/100\n",
      " - 0s - loss: 0.9220 - accuracy: 0.4896 - val_loss: 0.8690 - val_accuracy: 0.5417\n",
      "\n",
      "Epoch 00026: val_loss improved from 0.88113 to 0.86898, saving model to model/iris_deep.hdf5\n",
      "Epoch 27/100\n",
      " - 0s - loss: 0.9093 - accuracy: 0.5521 - val_loss: 0.8553 - val_accuracy: 0.7917\n",
      "\n",
      "Epoch 00027: val_loss improved from 0.86898 to 0.85525, saving model to model/iris_deep.hdf5\n",
      "Epoch 28/100\n",
      " - 0s - loss: 0.8970 - accuracy: 0.6875 - val_loss: 0.8420 - val_accuracy: 0.8333\n",
      "\n",
      "Epoch 00028: val_loss improved from 0.85525 to 0.84200, saving model to model/iris_deep.hdf5\n",
      "Epoch 29/100\n",
      " - 0s - loss: 0.8842 - accuracy: 0.7604 - val_loss: 0.8311 - val_accuracy: 0.8333\n",
      "\n",
      "Epoch 00029: val_loss improved from 0.84200 to 0.83111, saving model to model/iris_deep.hdf5\n",
      "Epoch 30/100\n",
      " - 0s - loss: 0.8710 - accuracy: 0.8021 - val_loss: 0.8202 - val_accuracy: 0.8333\n",
      "\n",
      "Epoch 00030: val_loss improved from 0.83111 to 0.82019, saving model to model/iris_deep.hdf5\n",
      "Epoch 31/100\n",
      " - 0s - loss: 0.8586 - accuracy: 0.8438 - val_loss: 0.8108 - val_accuracy: 0.9167\n",
      "\n",
      "Epoch 00031: val_loss improved from 0.82019 to 0.81080, saving model to model/iris_deep.hdf5\n",
      "Epoch 32/100\n",
      " - 0s - loss: 0.8464 - accuracy: 0.8750 - val_loss: 0.8027 - val_accuracy: 1.0000\n",
      "\n",
      "Epoch 00032: val_loss improved from 0.81080 to 0.80273, saving model to model/iris_deep.hdf5\n",
      "Epoch 33/100\n",
      " - 0s - loss: 0.8338 - accuracy: 0.8958 - val_loss: 0.7945 - val_accuracy: 1.0000\n",
      "\n",
      "Epoch 00033: val_loss improved from 0.80273 to 0.79454, saving model to model/iris_deep.hdf5\n",
      "Epoch 34/100\n",
      " - 0s - loss: 0.8205 - accuracy: 0.9062 - val_loss: 0.7844 - val_accuracy: 1.0000\n",
      "\n",
      "Epoch 00034: val_loss improved from 0.79454 to 0.78444, saving model to model/iris_deep.hdf5\n",
      "Epoch 35/100\n",
      " - 0s - loss: 0.8089 - accuracy: 0.9062 - val_loss: 0.7736 - val_accuracy: 1.0000\n",
      "\n",
      "Epoch 00035: val_loss improved from 0.78444 to 0.77362, saving model to model/iris_deep.hdf5\n",
      "Epoch 36/100\n",
      " - 0s - loss: 0.7969 - accuracy: 0.9062 - val_loss: 0.7629 - val_accuracy: 1.0000\n",
      "\n",
      "Epoch 00036: val_loss improved from 0.77362 to 0.76292, saving model to model/iris_deep.hdf5\n",
      "Epoch 37/100\n",
      " - 0s - loss: 0.7850 - accuracy: 0.9062 - val_loss: 0.7519 - val_accuracy: 1.0000\n",
      "\n",
      "Epoch 00037: val_loss improved from 0.76292 to 0.75187, saving model to model/iris_deep.hdf5\n",
      "Epoch 38/100\n",
      " - 0s - loss: 0.7735 - accuracy: 0.9062 - val_loss: 0.7418 - val_accuracy: 1.0000\n",
      "\n",
      "Epoch 00038: val_loss improved from 0.75187 to 0.74177, saving model to model/iris_deep.hdf5\n",
      "Epoch 39/100\n",
      " - 0s - loss: 0.7618 - accuracy: 0.9062 - val_loss: 0.7321 - val_accuracy: 1.0000\n",
      "\n",
      "Epoch 00039: val_loss improved from 0.74177 to 0.73210, saving model to model/iris_deep.hdf5\n",
      "Epoch 40/100\n",
      " - 0s - loss: 0.7506 - accuracy: 0.9062 - val_loss: 0.7208 - val_accuracy: 1.0000\n",
      "\n",
      "Epoch 00040: val_loss improved from 0.73210 to 0.72077, saving model to model/iris_deep.hdf5\n",
      "Epoch 41/100\n",
      " - 0s - loss: 0.7400 - accuracy: 0.9062 - val_loss: 0.7099 - val_accuracy: 1.0000\n",
      "\n",
      "Epoch 00041: val_loss improved from 0.72077 to 0.70991, saving model to model/iris_deep.hdf5\n",
      "Epoch 42/100\n",
      " - 0s - loss: 0.7287 - accuracy: 0.9062 - val_loss: 0.6981 - val_accuracy: 1.0000\n",
      "\n",
      "Epoch 00042: val_loss improved from 0.70991 to 0.69813, saving model to model/iris_deep.hdf5\n",
      "Epoch 43/100\n",
      " - 0s - loss: 0.7190 - accuracy: 0.8854 - val_loss: 0.6873 - val_accuracy: 0.9583\n",
      "\n",
      "Epoch 00043: val_loss improved from 0.69813 to 0.68726, saving model to model/iris_deep.hdf5\n",
      "Epoch 44/100\n",
      " - 0s - loss: 0.7072 - accuracy: 0.8854 - val_loss: 0.6794 - val_accuracy: 1.0000\n"
     ]
    },
    {
     "name": "stdout",
     "output_type": "stream",
     "text": [
      "\n",
      "Epoch 00044: val_loss improved from 0.68726 to 0.67940, saving model to model/iris_deep.hdf5\n",
      "Epoch 45/100\n",
      " - 0s - loss: 0.6962 - accuracy: 0.9062 - val_loss: 0.6698 - val_accuracy: 1.0000\n",
      "\n",
      "Epoch 00045: val_loss improved from 0.67940 to 0.66981, saving model to model/iris_deep.hdf5\n",
      "Epoch 46/100\n",
      " - 0s - loss: 0.6859 - accuracy: 0.9062 - val_loss: 0.6577 - val_accuracy: 1.0000\n",
      "\n",
      "Epoch 00046: val_loss improved from 0.66981 to 0.65770, saving model to model/iris_deep.hdf5\n",
      "Epoch 47/100\n",
      " - 0s - loss: 0.6772 - accuracy: 0.8854 - val_loss: 0.6464 - val_accuracy: 0.9167\n",
      "\n",
      "Epoch 00047: val_loss improved from 0.65770 to 0.64635, saving model to model/iris_deep.hdf5\n",
      "Epoch 48/100\n",
      " - 0s - loss: 0.6651 - accuracy: 0.8854 - val_loss: 0.6395 - val_accuracy: 1.0000\n",
      "\n",
      "Epoch 00048: val_loss improved from 0.64635 to 0.63945, saving model to model/iris_deep.hdf5\n",
      "Epoch 49/100\n",
      " - 0s - loss: 0.6548 - accuracy: 0.9062 - val_loss: 0.6367 - val_accuracy: 1.0000\n",
      "\n",
      "Epoch 00049: val_loss improved from 0.63945 to 0.63668, saving model to model/iris_deep.hdf5\n",
      "Epoch 50/100\n",
      " - 0s - loss: 0.6468 - accuracy: 0.9271 - val_loss: 0.6320 - val_accuracy: 1.0000\n",
      "\n",
      "Epoch 00050: val_loss improved from 0.63668 to 0.63199, saving model to model/iris_deep.hdf5\n",
      "Epoch 51/100\n",
      " - 0s - loss: 0.6362 - accuracy: 0.9479 - val_loss: 0.6232 - val_accuracy: 1.0000\n",
      "\n",
      "Epoch 00051: val_loss improved from 0.63199 to 0.62323, saving model to model/iris_deep.hdf5\n",
      "Epoch 52/100\n",
      " - 0s - loss: 0.6261 - accuracy: 0.9375 - val_loss: 0.6127 - val_accuracy: 1.0000\n",
      "\n",
      "Epoch 00052: val_loss improved from 0.62323 to 0.61265, saving model to model/iris_deep.hdf5\n",
      "Epoch 53/100\n",
      " - 0s - loss: 0.6159 - accuracy: 0.9375 - val_loss: 0.6043 - val_accuracy: 1.0000\n",
      "\n",
      "Epoch 00053: val_loss improved from 0.61265 to 0.60425, saving model to model/iris_deep.hdf5\n",
      "Epoch 54/100\n",
      " - 0s - loss: 0.6066 - accuracy: 0.9271 - val_loss: 0.5969 - val_accuracy: 1.0000\n",
      "\n",
      "Epoch 00054: val_loss improved from 0.60425 to 0.59686, saving model to model/iris_deep.hdf5\n",
      "Epoch 55/100\n",
      " - 0s - loss: 0.5973 - accuracy: 0.9375 - val_loss: 0.5858 - val_accuracy: 1.0000\n",
      "\n",
      "Epoch 00055: val_loss improved from 0.59686 to 0.58581, saving model to model/iris_deep.hdf5\n",
      "Epoch 56/100\n",
      " - 0s - loss: 0.5885 - accuracy: 0.9375 - val_loss: 0.5771 - val_accuracy: 1.0000\n",
      "\n",
      "Epoch 00056: val_loss improved from 0.58581 to 0.57713, saving model to model/iris_deep.hdf5\n",
      "Epoch 57/100\n",
      " - 0s - loss: 0.5795 - accuracy: 0.9375 - val_loss: 0.5666 - val_accuracy: 1.0000\n",
      "\n",
      "Epoch 00057: val_loss improved from 0.57713 to 0.56663, saving model to model/iris_deep.hdf5\n",
      "Epoch 58/100\n",
      " - 0s - loss: 0.5699 - accuracy: 0.9375 - val_loss: 0.5600 - val_accuracy: 1.0000\n",
      "\n",
      "Epoch 00058: val_loss improved from 0.56663 to 0.55996, saving model to model/iris_deep.hdf5\n",
      "Epoch 59/100\n",
      " - 0s - loss: 0.5621 - accuracy: 0.9479 - val_loss: 0.5535 - val_accuracy: 1.0000\n",
      "\n",
      "Epoch 00059: val_loss improved from 0.55996 to 0.55350, saving model to model/iris_deep.hdf5\n",
      "Epoch 60/100\n",
      " - 0s - loss: 0.5542 - accuracy: 0.9375 - val_loss: 0.5440 - val_accuracy: 1.0000\n",
      "\n",
      "Epoch 00060: val_loss improved from 0.55350 to 0.54401, saving model to model/iris_deep.hdf5\n",
      "Epoch 61/100\n",
      " - 0s - loss: 0.5457 - accuracy: 0.9375 - val_loss: 0.5355 - val_accuracy: 1.0000\n",
      "\n",
      "Epoch 00061: val_loss improved from 0.54401 to 0.53552, saving model to model/iris_deep.hdf5\n",
      "Epoch 62/100\n",
      " - 0s - loss: 0.5382 - accuracy: 0.9375 - val_loss: 0.5326 - val_accuracy: 1.0000\n",
      "\n",
      "Epoch 00062: val_loss improved from 0.53552 to 0.53259, saving model to model/iris_deep.hdf5\n",
      "Epoch 63/100\n",
      " - 0s - loss: 0.5306 - accuracy: 0.9479 - val_loss: 0.5221 - val_accuracy: 1.0000\n",
      "\n",
      "Epoch 00063: val_loss improved from 0.53259 to 0.52211, saving model to model/iris_deep.hdf5\n",
      "Epoch 64/100\n",
      " - 0s - loss: 0.5218 - accuracy: 0.9375 - val_loss: 0.5111 - val_accuracy: 1.0000\n",
      "\n",
      "Epoch 00064: val_loss improved from 0.52211 to 0.51114, saving model to model/iris_deep.hdf5\n",
      "Epoch 65/100\n",
      " - 0s - loss: 0.5165 - accuracy: 0.9271 - val_loss: 0.4992 - val_accuracy: 1.0000\n",
      "\n",
      "Epoch 00065: val_loss improved from 0.51114 to 0.49924, saving model to model/iris_deep.hdf5\n",
      "Epoch 66/100\n",
      " - 0s - loss: 0.5103 - accuracy: 0.9062 - val_loss: 0.4897 - val_accuracy: 1.0000\n",
      "\n",
      "Epoch 00066: val_loss improved from 0.49924 to 0.48973, saving model to model/iris_deep.hdf5\n",
      "Epoch 67/100\n",
      " - 0s - loss: 0.5024 - accuracy: 0.9062 - val_loss: 0.4850 - val_accuracy: 1.0000\n",
      "\n",
      "Epoch 00067: val_loss improved from 0.48973 to 0.48499, saving model to model/iris_deep.hdf5\n",
      "Epoch 68/100\n",
      " - 0s - loss: 0.4934 - accuracy: 0.9375 - val_loss: 0.4801 - val_accuracy: 1.0000\n",
      "\n",
      "Epoch 00068: val_loss improved from 0.48499 to 0.48006, saving model to model/iris_deep.hdf5\n",
      "Epoch 69/100\n",
      " - 0s - loss: 0.4873 - accuracy: 0.9479 - val_loss: 0.4751 - val_accuracy: 1.0000\n",
      "\n",
      "Epoch 00069: val_loss improved from 0.48006 to 0.47510, saving model to model/iris_deep.hdf5\n",
      "Epoch 70/100\n",
      " - 0s - loss: 0.4807 - accuracy: 0.9479 - val_loss: 0.4675 - val_accuracy: 1.0000\n",
      "\n",
      "Epoch 00070: val_loss improved from 0.47510 to 0.46748, saving model to model/iris_deep.hdf5\n",
      "Epoch 71/100\n",
      " - 0s - loss: 0.4738 - accuracy: 0.9479 - val_loss: 0.4589 - val_accuracy: 1.0000\n",
      "\n",
      "Epoch 00071: val_loss improved from 0.46748 to 0.45889, saving model to model/iris_deep.hdf5\n",
      "Epoch 72/100\n",
      " - 0s - loss: 0.4682 - accuracy: 0.9375 - val_loss: 0.4496 - val_accuracy: 1.0000\n",
      "\n",
      "Epoch 00072: val_loss improved from 0.45889 to 0.44957, saving model to model/iris_deep.hdf5\n",
      "Epoch 73/100\n",
      " - 0s - loss: 0.4615 - accuracy: 0.9375 - val_loss: 0.4441 - val_accuracy: 1.0000\n",
      "\n",
      "Epoch 00073: val_loss improved from 0.44957 to 0.44415, saving model to model/iris_deep.hdf5\n",
      "Epoch 74/100\n",
      " - 0s - loss: 0.4553 - accuracy: 0.9375 - val_loss: 0.4395 - val_accuracy: 1.0000\n",
      "\n",
      "Epoch 00074: val_loss improved from 0.44415 to 0.43952, saving model to model/iris_deep.hdf5\n",
      "Epoch 75/100\n",
      " - 0s - loss: 0.4495 - accuracy: 0.9375 - val_loss: 0.4338 - val_accuracy: 1.0000\n",
      "\n",
      "Epoch 00075: val_loss improved from 0.43952 to 0.43377, saving model to model/iris_deep.hdf5\n",
      "Epoch 76/100\n",
      " - 0s - loss: 0.4433 - accuracy: 0.9375 - val_loss: 0.4265 - val_accuracy: 1.0000\n",
      "\n",
      "Epoch 00076: val_loss improved from 0.43377 to 0.42650, saving model to model/iris_deep.hdf5\n",
      "Epoch 77/100\n",
      " - 0s - loss: 0.4392 - accuracy: 0.9375 - val_loss: 0.4189 - val_accuracy: 1.0000\n",
      "\n",
      "Epoch 00077: val_loss improved from 0.42650 to 0.41894, saving model to model/iris_deep.hdf5\n",
      "Epoch 78/100\n",
      " - 0s - loss: 0.4331 - accuracy: 0.9375 - val_loss: 0.4144 - val_accuracy: 1.0000\n",
      "\n",
      "Epoch 00078: val_loss improved from 0.41894 to 0.41443, saving model to model/iris_deep.hdf5\n",
      "Epoch 79/100\n",
      " - 0s - loss: 0.4282 - accuracy: 0.9479 - val_loss: 0.4171 - val_accuracy: 1.0000\n",
      "\n",
      "Epoch 00079: val_loss did not improve from 0.41443\n",
      "Epoch 80/100\n",
      " - 0s - loss: 0.4243 - accuracy: 0.9583 - val_loss: 0.4185 - val_accuracy: 1.0000\n",
      "\n",
      "Epoch 00080: val_loss did not improve from 0.41443\n",
      "Epoch 81/100\n",
      " - 0s - loss: 0.4221 - accuracy: 0.9271 - val_loss: 0.4127 - val_accuracy: 1.0000\n",
      "\n",
      "Epoch 00081: val_loss improved from 0.41443 to 0.41266, saving model to model/iris_deep.hdf5\n",
      "Epoch 82/100\n",
      " - 0s - loss: 0.4143 - accuracy: 0.9375 - val_loss: 0.4018 - val_accuracy: 1.0000\n",
      "\n",
      "Epoch 00082: val_loss improved from 0.41266 to 0.40185, saving model to model/iris_deep.hdf5\n",
      "Epoch 83/100\n",
      " - 0s - loss: 0.4059 - accuracy: 0.9583 - val_loss: 0.3900 - val_accuracy: 1.0000\n",
      "\n",
      "Epoch 00083: val_loss improved from 0.40185 to 0.39002, saving model to model/iris_deep.hdf5\n",
      "Epoch 84/100\n",
      " - 0s - loss: 0.4027 - accuracy: 0.9375 - val_loss: 0.3809 - val_accuracy: 1.0000\n",
      "\n",
      "Epoch 00084: val_loss improved from 0.39002 to 0.38092, saving model to model/iris_deep.hdf5\n",
      "Epoch 85/100\n",
      " - 0s - loss: 0.4010 - accuracy: 0.9271 - val_loss: 0.3764 - val_accuracy: 1.0000\n",
      "\n",
      "Epoch 00085: val_loss improved from 0.38092 to 0.37637, saving model to model/iris_deep.hdf5\n",
      "Epoch 86/100\n",
      " - 0s - loss: 0.3949 - accuracy: 0.9271 - val_loss: 0.3738 - val_accuracy: 1.0000\n",
      "\n",
      "Epoch 00086: val_loss improved from 0.37637 to 0.37382, saving model to model/iris_deep.hdf5\n",
      "Epoch 87/100\n",
      " - 0s - loss: 0.3881 - accuracy: 0.9479 - val_loss: 0.3796 - val_accuracy: 1.0000\n",
      "\n",
      "Epoch 00087: val_loss did not improve from 0.37382\n",
      "Epoch 88/100\n",
      " - 0s - loss: 0.3846 - accuracy: 0.9479 - val_loss: 0.3830 - val_accuracy: 1.0000\n",
      "\n",
      "Epoch 00088: val_loss did not improve from 0.37382\n",
      "Epoch 89/100\n",
      " - 0s - loss: 0.3853 - accuracy: 0.9375 - val_loss: 0.3811 - val_accuracy: 0.9583\n"
     ]
    },
    {
     "name": "stdout",
     "output_type": "stream",
     "text": [
      "\n",
      "Epoch 00089: val_loss did not improve from 0.37382\n",
      "Epoch 90/100\n",
      " - 0s - loss: 0.3813 - accuracy: 0.9375 - val_loss: 0.3715 - val_accuracy: 1.0000\n",
      "\n",
      "Epoch 00090: val_loss improved from 0.37382 to 0.37150, saving model to model/iris_deep.hdf5\n",
      "Epoch 91/100\n",
      " - 0s - loss: 0.3724 - accuracy: 0.9375 - val_loss: 0.3603 - val_accuracy: 1.0000\n",
      "\n",
      "Epoch 00091: val_loss improved from 0.37150 to 0.36028, saving model to model/iris_deep.hdf5\n",
      "Epoch 92/100\n",
      " - 0s - loss: 0.3686 - accuracy: 0.9479 - val_loss: 0.3477 - val_accuracy: 1.0000\n",
      "\n",
      "Epoch 00092: val_loss improved from 0.36028 to 0.34775, saving model to model/iris_deep.hdf5\n",
      "Epoch 93/100\n",
      " - 0s - loss: 0.3632 - accuracy: 0.9375 - val_loss: 0.3414 - val_accuracy: 1.0000\n",
      "\n",
      "Epoch 00093: val_loss improved from 0.34775 to 0.34136, saving model to model/iris_deep.hdf5\n",
      "Epoch 94/100\n",
      " - 0s - loss: 0.3600 - accuracy: 0.9375 - val_loss: 0.3344 - val_accuracy: 1.0000\n",
      "\n",
      "Epoch 00094: val_loss improved from 0.34136 to 0.33443, saving model to model/iris_deep.hdf5\n",
      "Epoch 95/100\n",
      " - 0s - loss: 0.3575 - accuracy: 0.9375 - val_loss: 0.3297 - val_accuracy: 1.0000\n",
      "\n",
      "Epoch 00095: val_loss improved from 0.33443 to 0.32968, saving model to model/iris_deep.hdf5\n",
      "Epoch 96/100\n",
      " - 0s - loss: 0.3525 - accuracy: 0.9375 - val_loss: 0.3262 - val_accuracy: 1.0000\n",
      "\n",
      "Epoch 00096: val_loss improved from 0.32968 to 0.32621, saving model to model/iris_deep.hdf5\n",
      "Epoch 97/100\n",
      " - 0s - loss: 0.3479 - accuracy: 0.9479 - val_loss: 0.3247 - val_accuracy: 1.0000\n",
      "\n",
      "Epoch 00097: val_loss improved from 0.32621 to 0.32474, saving model to model/iris_deep.hdf5\n",
      "Epoch 98/100\n",
      " - 0s - loss: 0.3429 - accuracy: 0.9583 - val_loss: 0.3250 - val_accuracy: 1.0000\n",
      "\n",
      "Epoch 00098: val_loss did not improve from 0.32474\n",
      "Epoch 99/100\n",
      " - 0s - loss: 0.3403 - accuracy: 0.9583 - val_loss: 0.3213 - val_accuracy: 1.0000\n",
      "\n",
      "Epoch 00099: val_loss improved from 0.32474 to 0.32127, saving model to model/iris_deep.hdf5\n",
      "Epoch 100/100\n",
      " - 0s - loss: 0.3365 - accuracy: 0.9583 - val_loss: 0.3149 - val_accuracy: 1.0000\n",
      "\n",
      "Epoch 00100: val_loss improved from 0.32127 to 0.31487, saving model to model/iris_deep.hdf5\n"
     ]
    },
    {
     "data": {
      "text/plain": [
       "<keras.callbacks.callbacks.History at 0x206769c2588>"
      ]
     },
     "execution_count": 56,
     "metadata": {},
     "output_type": "execute_result"
    }
   ],
   "source": [
    "#모델학습\n",
    "model.fit(x_train, Y_encoded, epochs = 100, batch_size = 30, verbose = 2,\n",
    "         validation_split = 0.2, callbacks = [checkpointer])"
   ]
  },
  {
   "cell_type": "code",
   "execution_count": 58,
   "metadata": {},
   "outputs": [],
   "source": [
    "from keras.models import load_model\n",
    "model_deep = load_model(\"model/iris_deep.hdf5\")"
   ]
  },
  {
   "cell_type": "code",
   "execution_count": 60,
   "metadata": {},
   "outputs": [
    {
     "name": "stdout",
     "output_type": "stream",
     "text": [
      "\r",
      "30/30 [==============================] - 0s 33us/step\n"
     ]
    },
    {
     "data": {
      "text/plain": [
       "1.0"
      ]
     },
     "execution_count": 60,
     "metadata": {},
     "output_type": "execute_result"
    }
   ],
   "source": [
    "model.evaluate(x_test, keras.utils.to_categorical(y_test))[1]"
   ]
  },
  {
   "cell_type": "code",
   "execution_count": 63,
   "metadata": {},
   "outputs": [
    {
     "data": {
      "text/plain": [
       "2"
      ]
     },
     "execution_count": 63,
     "metadata": {},
     "output_type": "execute_result"
    }
   ],
   "source": [
    "model_deep.predict_classes(test_data)[0]"
   ]
  },
  {
   "cell_type": "code",
   "execution_count": 62,
   "metadata": {},
   "outputs": [
    {
     "data": {
      "text/plain": [
       "array([[0.02312206, 0.37509903, 0.6017788 ]], dtype=float32)"
      ]
     },
     "execution_count": 62,
     "metadata": {},
     "output_type": "execute_result"
    }
   ],
   "source": [
    "model_deep.predict(test_data)"
   ]
  },
  {
   "cell_type": "code",
   "execution_count": 61,
   "metadata": {},
   "outputs": [
    {
     "data": {
      "text/plain": [
       "2"
      ]
     },
     "execution_count": 61,
     "metadata": {},
     "output_type": "execute_result"
    }
   ],
   "source": [
    "np.argmax(model_deep.predict(test_data)[0])"
   ]
  },
  {
   "cell_type": "code",
   "execution_count": null,
   "metadata": {},
   "outputs": [],
   "source": []
  },
  {
   "cell_type": "code",
   "execution_count": null,
   "metadata": {},
   "outputs": [],
   "source": []
  }
 ],
 "metadata": {
  "kernelspec": {
   "display_name": "Python 3",
   "language": "python",
   "name": "python3"
  },
  "language_info": {
   "codemirror_mode": {
    "name": "ipython",
    "version": 3
   },
   "file_extension": ".py",
   "mimetype": "text/x-python",
   "name": "python",
   "nbconvert_exporter": "python",
   "pygments_lexer": "ipython3",
   "version": "3.7.7"
  }
 },
 "nbformat": 4,
 "nbformat_minor": 4
}
